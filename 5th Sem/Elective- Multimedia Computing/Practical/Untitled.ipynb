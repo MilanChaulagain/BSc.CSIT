{
 "cells": [
  {
   "cell_type": "code",
   "execution_count": 14,
   "id": "9f56d889-0ed5-478d-a059-54b4d1ef5a6f",
   "metadata": {},
   "outputs": [],
   "source": [
    "def run_length_encoding(input_string):\n",
    "# \"\"\"Run-length encoding implementation that takes an input string and returns its RLE\n",
    "# representation\"\"\"\n",
    "# Initialize variables\n",
    "    count = 1\n",
    "    prev_char = input_string[0]\n",
    "    output = \"\"\n",
    "# Iterate through the input string, starting from the second character\n",
    "    for char in input_string[1:]:\n",
    "# If the current character is the same as the previous one, increment the count\n",
    "        if char == prev_char:\n",
    "            count += 1\n",
    "# If the current character is different from the previous one, add the previous character and\n",
    "# count to the output\n",
    "        else:\n",
    "            output += str(count) + prev_char\n",
    "            count = 1\n",
    "            prev_char = char\n",
    "# Add the last character and count to the output\n",
    "    output += str(count) + prev_char\n",
    "    return output"
   ]
  },
  {
   "cell_type": "code",
   "execution_count": null,
   "id": "7cdec3f2-8b3d-447b-ad8e-3df9514ff7ee",
   "metadata": {},
   "outputs": [],
   "source": []
  }
 ],
 "metadata": {
  "kernelspec": {
   "display_name": "Python 3 (ipykernel)",
   "language": "python",
   "name": "python3"
  },
  "language_info": {
   "codemirror_mode": {
    "name": "ipython",
    "version": 3
   },
   "file_extension": ".py",
   "mimetype": "text/x-python",
   "name": "python",
   "nbconvert_exporter": "python",
   "pygments_lexer": "ipython3",
   "version": "3.13.0"
  }
 },
 "nbformat": 4,
 "nbformat_minor": 5
}
